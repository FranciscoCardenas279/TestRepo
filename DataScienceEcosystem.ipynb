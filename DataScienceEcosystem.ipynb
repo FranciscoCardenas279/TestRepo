{
 "cells": [
  {
   "cell_type": "markdown",
   "id": "ec8eb416",
   "metadata": {},
   "source": [
    "## Introducción\n",
    "En este cuaderno, se resumen las herramientas y ecosistemas de ciencia de datos."
   ]
  },
  {
   "cell_type": "markdown",
   "id": "d1b43e91",
   "metadata": {},
   "source": [
    "## Lenguajes de Ciencia de Datos\n",
    "**Algunos de los lenguajes populares que utilizan los científicos de datos son:**\n",
    "\n",
    "1. Python\n",
    "2. R\n",
    "3. SQL\n",
    "4. Julia"
   ]
  },
  {
   "cell_type": "markdown",
   "id": "59d8fbb0",
   "metadata": {},
   "source": [
    "## Bibliotecas de Ciencia de Datos\n",
    "**Algunas de las bibliotecas comúnmente utilizadas por los científicos de datos incluyen:**\n",
    "\n",
    "1. Pandas\n",
    "2. NumPy\n",
    "3. Scikit-learn\n",
    "4. TensorFlow"
   ]
  },
  {
   "cell_type": "markdown",
   "id": "348b5b5a",
   "metadata": {},
   "source": [
    "## ¡Ejercicio completado!\n",
    "Toma las capturas de pantalla según las instrucciones y guárdalas con los nombres indicados."
   ]
  }
 ],
 "metadata": {
  "language_info": {
   "name": "python"
  }
 },
 "nbformat": 4,
 "nbformat_minor": 5
}
